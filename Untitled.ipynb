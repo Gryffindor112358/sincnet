{
 "cells": [
  {
   "cell_type": "code",
   "execution_count": 2,
   "metadata": {},
   "outputs": [],
   "source": [
    "import shutil\n",
    "import os\n",
    "import soundfile as sf\n",
    "import numpy as np\n",
    "import sys"
   ]
  },
  {
   "cell_type": "code",
   "execution_count": 3,
   "metadata": {},
   "outputs": [
    {
     "name": "stdout",
     "output_type": "stream",
     "text": [
      "[ 3.05175781e-05 -3.05175781e-05  6.10351562e-05 ... -3.05175781e-05\n",
      " -1.52587891e-04 -2.44140625e-04]\n"
     ]
    }
   ],
   "source": [
    "wav_file = r'D:\\Equipments\\PyCharm Community Edition 2019.1.3\\Projects\\all_needed\\sincnet\\sincnet\\TIMIT_FOLDER\\TRAIN\\DR1\\FCJF0\\SA1.WAV'\n",
    "[signal, fs] = sf.read(wav_file)\n",
    "print(signal)"
   ]
  },
  {
   "cell_type": "code",
   "execution_count": 4,
   "metadata": {},
   "outputs": [
    {
     "name": "stdout",
     "output_type": "stream",
     "text": [
      "(46797,)\n"
     ]
    }
   ],
   "source": [
    "wav_file = r'D:\\Equipments\\PyCharm Community Edition 2019.1.3\\Projects\\all_needed\\sincnet\\sincnet\\TIMIT_FOLDER\\TRAIN\\DR1\\FCJF0\\SA1.WAV'\n",
    "[signal, fs] = sf.read(wav_file)\n",
    "print(signal.shape)"
   ]
  },
  {
   "cell_type": "code",
   "execution_count": 5,
   "metadata": {},
   "outputs": [
    {
     "name": "stdout",
     "output_type": "stream",
     "text": [
      "16000\n"
     ]
    }
   ],
   "source": [
    "print(fs)"
   ]
  },
  {
   "cell_type": "code",
   "execution_count": 6,
   "metadata": {},
   "outputs": [],
   "source": [
    "signal = signal / np.abs(np.max(signal))"
   ]
  },
  {
   "cell_type": "code",
   "execution_count": 7,
   "metadata": {},
   "outputs": [
    {
     "name": "stdout",
     "output_type": "stream",
     "text": [
      "[ 0.00035842 -0.00035842  0.00071685 ... -0.00035842 -0.00179211\n",
      " -0.00286738]\n"
     ]
    }
   ],
   "source": [
    "print(signal)"
   ]
  },
  {
   "cell_type": "code",
   "execution_count": 8,
   "metadata": {},
   "outputs": [
    {
     "name": "stdout",
     "output_type": "stream",
     "text": [
      "[ 0.00035842 -0.00035842  0.00071685 ... -0.00035842 -0.00179211\n",
      " -0.00286738]\n"
     ]
    }
   ],
   "source": [
    "signal = signal.astype(np.float64)\n",
    "print(signal)"
   ]
  },
  {
   "cell_type": "code",
   "execution_count": 9,
   "metadata": {},
   "outputs": [
    {
     "data": {
      "text/plain": [
       "46797"
      ]
     },
     "execution_count": 9,
     "metadata": {},
     "output_type": "execute_result"
    }
   ],
   "source": [
    "signal.shape[0]"
   ]
  },
  {
   "cell_type": "code",
   "execution_count": null,
   "metadata": {},
   "outputs": [],
   "source": []
  }
 ],
 "metadata": {
  "kernelspec": {
   "display_name": "Python 3",
   "language": "python",
   "name": "python3"
  },
  "language_info": {
   "codemirror_mode": {
    "name": "ipython",
    "version": 3
   },
   "file_extension": ".py",
   "mimetype": "text/x-python",
   "name": "python",
   "nbconvert_exporter": "python",
   "pygments_lexer": "ipython3",
   "version": "3.7.4"
  }
 },
 "nbformat": 4,
 "nbformat_minor": 2
}
